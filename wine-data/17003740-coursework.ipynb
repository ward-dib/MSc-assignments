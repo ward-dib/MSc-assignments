{
 "cells": [
  {
   "cell_type": "code",
   "execution_count": 2,
   "metadata": {},
   "outputs": [],
   "source": [
    "\"\"\"\n",
    "__author__= \"Student ID - 17003740\" \n",
    "__date__= \"2020-12-01\"\n",
    "__version__= \"1\"\n",
    "__data_source__= \"https://archive.ics.uci.edu/ml/machine-learning-databases/wine-quality/\"\n",
    "\n",
    "\"\"\"\n",
    "\n",
    "# Import libraries used in this assignment. \n",
    "\n",
    "import pandas as pd\n",
    "import numpy as np\n",
    "import matplotlib.pyplot as plt\n",
    "from sklearn.utils import shuffle\n",
    "from sklearn.decomposition import PCA\n",
    "from sklearn.preprocessing import StandardScaler\n",
    "from sklearn.model_selection import train_test_split\n",
    "from sklearn.linear_model import LinearRegression\n",
    "from sklearn.model_selection import learning_curve"
   ]
  },
  {
   "cell_type": "code",
   "execution_count": 3,
   "metadata": {},
   "outputs": [
    {
     "name": "stdout",
     "output_type": "stream",
     "text": [
      "The white wine dataset has 4898 data points.\n",
      "(4898, 12)\n"
     ]
    }
   ],
   "source": [
    "#------------------------------- T A S K 1 ------------------------------------\n",
    "\n",
    "# a. Use Pandas to load the data and report the number of data points (rows) in the dataset.\n",
    "\n",
    "wine = pd.read_csv('https://archive.ics.uci.edu/ml/machine-learning-databases/wine-quality/winequality-white.csv', sep = ';')\n",
    "wine.head()\n",
    "\n",
    "print(f'The white wine dataset has {len(wine)} data points.')\n",
    "print(wine.shape)\n",
    "\n",
    "#-----------------------------------------------------------------------------"
   ]
  },
  {
   "cell_type": "code",
   "execution_count": 4,
   "metadata": {},
   "outputs": [
    {
     "name": "stdout",
     "output_type": "stream",
     "text": [
      "Number of columns in dataset = 12\n",
      "Number of features in dataset = 11\n",
      "Number of data points per class:\n",
      " quality\n",
      "3      20\n",
      "4     163\n",
      "5    1457\n",
      "6    2198\n",
      "7     880\n",
      "8     175\n",
      "9       5\n",
      "Name: quality, dtype: int64\n",
      "         data points in each class\n",
      "quality                           \n",
      "3                               20\n",
      "4                              163\n",
      "5                             1457\n",
      "6                             2198\n",
      "7                              880\n",
      "8                              175\n",
      "9                                5\n"
     ]
    }
   ],
   "source": [
    "# b. Report the number of features in the dataset and the number of data points in each class.\n",
    "\n",
    "print('Number of columns in dataset =', len(wine.columns))\n",
    "features = len(wine.columns) - 1\n",
    "print('Number of features in dataset =', features)\n",
    "wine.groupby(['quality']).agg(['count'])\n",
    "count_per_class = wine.groupby('quality')['quality'].count()\n",
    "print(\"Number of data points per class:\\n\", count_per_class)\n",
    "count_per_class.sum(axis = 0)\n",
    "count_table = count_per_class.to_frame()\n",
    "count_table = count_table.rename(columns={'quality': 'data points in each class'})\n",
    "print(count_table)\n",
    "\n",
    "#-----------------------------------------------------------------------------"
   ]
  },
  {
   "cell_type": "code",
   "execution_count": 5,
   "metadata": {},
   "outputs": [
    {
     "name": "stdout",
     "output_type": "stream",
     "text": [
      "      fixed acidity  volatile acidity  citric acid  residual sugar  chlorides  \\\n",
      "0               6.7             0.280         0.34            8.90      0.048   \n",
      "1               9.0             0.290         0.34           12.10      0.030   \n",
      "2               6.9             0.190         0.38            1.15      0.023   \n",
      "3               6.5             0.170         0.33            1.40      0.028   \n",
      "4               7.6             0.200         0.31            1.40      0.047   \n",
      "...             ...               ...          ...             ...        ...   \n",
      "4893            5.8             0.190         0.49            4.90      0.040   \n",
      "4894            4.7             0.455         0.18            1.90      0.036   \n",
      "4895            8.2             0.180         0.49            1.10      0.033   \n",
      "4896            7.1             0.310         0.25           11.20      0.048   \n",
      "4897            7.3             0.170         0.24            8.10      0.121   \n",
      "\n",
      "      free sulfur dioxide  total sulfur dioxide  density    pH  sulphates  \\\n",
      "0                    32.0                 111.0  0.99455  3.25       0.54   \n",
      "1                    34.0                 177.0  0.99706  3.13       0.47   \n",
      "2                    30.0                 105.0  0.99047  3.11       0.38   \n",
      "3                    14.0                  99.0  0.99280  3.23       0.55   \n",
      "4                    41.0                 142.0  0.99340  3.43       0.53   \n",
      "...                   ...                   ...      ...   ...        ...   \n",
      "4893                 44.0                 118.0  0.99350  3.34       0.38   \n",
      "4894                 33.0                 106.0  0.98746  3.21       0.83   \n",
      "4895                 28.0                  81.0  0.99230  3.00       0.68   \n",
      "4896                 32.0                 136.0  0.99663  3.14       0.40   \n",
      "4897                 32.0                 162.0  0.99508  3.17       0.38   \n",
      "\n",
      "      alcohol  quality  \n",
      "0        11.0        7  \n",
      "1        10.6        5  \n",
      "2        11.4        5  \n",
      "3        10.1        6  \n",
      "4        10.1        6  \n",
      "...       ...      ...  \n",
      "4893      9.5        7  \n",
      "4894     14.0        7  \n",
      "4895     10.4        7  \n",
      "4896      9.5        5  \n",
      "4897     10.4        8  \n",
      "\n",
      "[4898 rows x 12 columns]\n"
     ]
    }
   ],
   "source": [
    "# c. Perform random permutations of the data using the function, shuffle, from sklearn.utils. \n",
    "\n",
    "wine_shuffle = shuffle(wine, random_state = 20)\n",
    "wine_shuffle = wine_shuffle.reset_index(drop = True)\n",
    "\n",
    "print(wine_shuffle)\n",
    "\n",
    "#-----------------------------------------------------------------------------"
   ]
  },
  {
   "cell_type": "code",
   "execution_count": 6,
   "metadata": {},
   "outputs": [
    {
     "data": {
      "text/plain": [
       "Text(0.5, 1.0, 'Fixed Acidity vs. Density')"
      ]
     },
     "execution_count": 6,
     "metadata": {},
     "output_type": "execute_result"
    },
    {
     "data": {
      "image/png": "[encoded data removed]",
      "text/plain": [
       "<Figure size 432x288 with 1 Axes>"
      ]
     },
     "metadata": {
      "needs_background": "light"
     },
     "output_type": "display_data"
    }
   ],
   "source": [
    "# d. Produce one scatter plot, that is, one feature against another feature. \n",
    "\n",
    "fig = plt.figure()\n",
    "ax = plt.gca()\n",
    "\n",
    "ax.scatter('fixed acidity', 'density', data = wine, color = 'b', s = 8)\n",
    "\n",
    "ax.set_title(\"Fixed Acidity vs. Density\")"
   ]
  },
  {
   "cell_type": "code",
   "execution_count": 7,
   "metadata": {},
   "outputs": [
    {
     "name": "stdout",
     "output_type": "stream",
     "text": [
      "[[ 33.73217215   1.24068899]\n",
      " [-11.92607156 -18.95547531]\n",
      " [-41.22486841   5.73918086]\n",
      " ...\n",
      " [-27.99447972   1.98669135]\n",
      " [-31.62911071  -7.35635123]\n",
      " [-42.66925466  -2.30126756]]\n"
     ]
    }
   ],
   "source": [
    "#------------------------------- T A S K 2 ------------------------------------\n",
    "\n",
    "# a. Perform a PCA analysis on the whole white_wine dataset.\n",
    "\n",
    "pca_analysis = PCA(n_components = 2)\n",
    "wine_pca = pca_analysis.fit_transform(wine)\n",
    "\n",
    "print(wine_pca)\n",
    "\n",
    "#-----------------------------------------------------------------------------"
   ]
  },
  {
   "cell_type": "code",
   "execution_count": 8,
   "metadata": {},
   "outputs": [
    {
     "data": {
      "text/plain": [
       "<function matplotlib.pyplot.show(close=None, block=None)>"
      ]
     },
     "execution_count": 8,
     "metadata": {},
     "output_type": "execute_result"
    },
    {
     "data": {
      "image/png": "[encoded data removed]",
      "text/plain": [
       "<Figure size 432x288 with 1 Axes>"
      ]
     },
     "metadata": {
      "needs_background": "light"
     },
     "output_type": "display_data"
    }
   ],
   "source": [
    "# b. Plot the data in the PC1 and PC2 projections and label/colour the data in the plot according to their class labels.\n",
    "\n",
    "x = StandardScaler().fit_transform(wine)\n",
    "wine_pca = pca_analysis.fit_transform(x)\n",
    "\n",
    "PC1 = wine_pca[:, 0]\n",
    "PC2 = wine_pca[:, 1]\n",
    "\n",
    "fig, ax = plt.subplots()\n",
    "\n",
    "scatter = ax.scatter(PC1, PC2, c = wine['quality'])\n",
    "\n",
    "# produce a legend with the unique colors from the scatter.\n",
    "legend = ax.legend(*scatter.legend_elements(),\n",
    "                    loc = \"upper right\", title = \"Classes\")\n",
    "ax.add_artist(legend)\n",
    "\n",
    "plt.xlabel('PC1', weight = 'bold')\n",
    "plt.ylabel('PC2', weight = 'bold')\n",
    "plt.show\n",
    "\n",
    "#-----------------------------------------------------------------------------"
   ]
  },
  {
   "cell_type": "code",
   "execution_count": 9,
   "metadata": {},
   "outputs": [
    {
     "name": "stdout",
     "output_type": "stream",
     "text": [
      "[[ 7.12113586e-01 -1.93057060e-03  2.95325116e-02  3.81021814e-01\n",
      "   4.25625536e-04 -7.08918642e-01  3.26601339e+00  6.69677256e-04\n",
      "  -5.42648260e-02 -1.65099229e-03 -1.25532822e-01]\n",
      " [-1.93057060e-03  1.01595410e-02 -1.82327755e-03  3.28653337e-02\n",
      "   1.55277486e-04 -1.66300459e-01  3.82353903e-01  8.17393269e-06\n",
      "  -4.85753094e-04 -4.10990231e-04  8.39972309e-03]\n",
      " [ 2.95325116e-02 -1.82327755e-03  1.46457930e-02  5.78289265e-02\n",
      "   3.02383813e-04  1.93629777e-01  6.22988708e-01  5.41137964e-05\n",
      "  -2.99234513e-03  8.60882914e-04 -1.12782389e-02]\n",
      " [ 3.81021814e-01  3.28653337e-02  5.78289265e-02  2.57257702e+01\n",
      "   9.82750206e-03  2.58005779e+01  8.65313030e+01  1.27271653e-02\n",
      "  -1.48683661e-01 -1.54347435e-02 -2.81274033e+00]\n",
      " [ 4.25625536e-04  1.55277486e-04  3.02383813e-04  9.82750206e-03\n",
      "   4.77333710e-04  3.76744976e-02  1.84687489e-01  1.68075352e-05\n",
      "  -2.98364855e-04  4.17968689e-05 -9.68423502e-03]\n",
      " [-7.08918642e-01 -1.66300459e-01  1.93629777e-01  2.58005779e+01\n",
      "   3.76744976e-02  2.89242720e+02  4.44865891e+02  1.49655317e-02\n",
      "  -1.58655481e-03  1.14937934e-01 -5.23450867e+00]\n",
      " [ 3.26601339e+00  3.82353903e-01  6.22988708e-01  8.65313030e+01\n",
      "   1.84687489e-01  4.44865891e+02  1.80608549e+03  6.73520256e-02\n",
      "   1.48942172e-02  6.52644577e-01 -2.34766046e+01]\n",
      " [ 6.69677256e-04  8.17393269e-06  5.41137964e-05  1.27271653e-02\n",
      "   1.68075352e-05  1.49655317e-02  6.73520256e-02  8.94552419e-06\n",
      "  -4.22686081e-05  2.54274724e-05 -2.87143036e-03]\n",
      " [-5.42648260e-02 -4.85753094e-04 -2.99234513e-03 -1.48683661e-01\n",
      "  -2.98364855e-04 -1.58655481e-03  1.48942172e-02 -4.22686081e-05\n",
      "   2.28011811e-02  2.68752297e-03  2.25650522e-02]\n",
      " [-1.65099229e-03 -4.10990231e-04  8.60882914e-04 -1.54347435e-02\n",
      "   4.17968689e-05  1.14937934e-01  6.52644577e-01  2.54274724e-05\n",
      "   2.68752297e-03  1.30247060e-02 -2.44835608e-03]\n",
      " [-1.25532822e-01  8.39972309e-03 -1.12782389e-02 -2.81274033e+00\n",
      "  -9.68423502e-03 -5.23450867e+00 -2.34766046e+01 -2.87143036e-03\n",
      "   2.25650522e-02 -2.44835608e-03  1.51442698e+00]]\n"
     ]
    }
   ],
   "source": [
    "# c. Report the variance captured by each principal component. \n",
    "\n",
    "inputs = wine[['fixed acidity', 'volatile acidity', 'citric acid',\n",
    "                'residual sugar','chlorides', 'free sulfur dioxide',\n",
    "                'total sulfur dioxide', 'density', 'pH', 'sulphates',\n",
    "                'alcohol']]\n",
    "\n",
    "features = inputs.T\n",
    "\n",
    "covariance_matrix =  np.cov(features)\n",
    "\n",
    "print(covariance_matrix)\n",
    "\n",
    "#-----------------------------------------------------------------------------"
   ]
  },
  {
   "cell_type": "code",
   "execution_count": 10,
   "metadata": {},
   "outputs": [
    {
     "name": "stdout",
     "output_type": "stream",
     "text": [
      "(4898, 12)\n",
      "(1000, 11)\n",
      "(3898, 11)\n",
      "(2898, 11)\n",
      "(1000, 11)\n",
      "(2898, 1)\n",
      "(1000, 1)\n"
     ]
    }
   ],
   "source": [
    "#------------------------------- T A S K 3 ------------------------------------\n",
    "\n",
    "# a. Take out the first 1000 rows from white_wine and save it as the validation set.\n",
    "# b. Take out the last 1000 rows from white_wine and save it as the test set.\n",
    "# c. Save the rest of rows from white_wine as the training set.\n",
    "\n",
    "inputs = wine[['fixed acidity', 'volatile acidity',\n",
    "                 'citric acid', 'residual sugar','chlorides',\n",
    "                 'free sulfur dioxide', 'total sulfur dioxide', 'density',\n",
    "                 'pH', 'sulphates', 'alcohol']]\n",
    "\n",
    "target = wine[['quality']]\n",
    "\n",
    "print(wine.shape)\n",
    "\n",
    "x_train, x_test, y_train, y_test = train_test_split(inputs,\n",
    "                                                    target,\n",
    "                                                    test_size = (1000/4898),\n",
    "                                                    shuffle = False)\n",
    "\n",
    "print(x_test.shape)\n",
    "print(x_train.shape)\n",
    "\n",
    "x_trn, x_val, y_trn, y_val = train_test_split(x_train,\n",
    "                                              y_train,\n",
    "                                              test_size = (1000/3898),\n",
    "                                              shuffle = False)\n",
    "print(x_trn.shape)\n",
    "print(x_val.shape)\n",
    "print(y_trn.shape)\n",
    "print(y_val.shape)\n"
   ]
  },
  {
   "cell_type": "code",
   "execution_count": 11,
   "metadata": {},
   "outputs": [
    {
     "data": {
      "text/plain": [
       "<matplotlib.legend.Legend at 0x24760a7f9a0>"
      ]
     },
     "execution_count": 11,
     "metadata": {},
     "output_type": "execute_result"
    },
    {
     "data": {
      "image/png": "[encoded data removed]",
      "text/plain": [
       "<Figure size 432x288 with 1 Axes>"
      ]
     },
     "metadata": {
      "needs_background": "light"
     },
     "output_type": "display_data"
    }
   ],
   "source": [
    "#------------------------------- T A S K 4 -----------------------------------\n",
    "\n",
    "\"\"\"\n",
    "a. Produce a learning curve of the size of training set against the performance\n",
    "measurements. The performance should be measured on both the training set and the\n",
    "validation set. You need to choose at least 10 different sizes for the training set. For\n",
    "example, the first size may be 10% of the total training set produced in Task 3.\n",
    "\"\"\"        \n",
    "\n",
    "train_sizes = [1, 289, 579, 869, 1159, 1449, 1738, 2028, 2318, 2608, 2898]\n",
    "#train_sizes = [1, 100, 200, 300, 400, 500, 600, 700, 800, 900, 1000]\n",
    "#train_sizes = [1, 500, 1500, 2000, 2500, 3000, 3500, 3918]\n",
    "\n",
    "features = ['fixed acidity', 'volatile acidity',\n",
    "            'citric acid', 'residual sugar','chlorides',\n",
    "            'free sulfur dioxide', 'total sulfur dioxide', 'density',\n",
    "            'pH', 'sulphates', 'alcohol']\n",
    "target = ['quality']\n",
    "\n",
    "train_sizes, train_scores, validation_scores = learning_curve( \n",
    "    estimator = LinearRegression(),\n",
    "    X = wine[features],\n",
    "    y = wine[target], train_sizes = train_sizes, cv = 5,\n",
    "    scoring = 'neg_mean_squared_error')\n",
    "\n",
    "train_scores_mean = -train_scores.mean(axis = 1)\n",
    "validation_scores_mean = -validation_scores.mean(axis = 1)\n",
    "\n",
    "plt.plot(train_sizes, train_scores_mean, label = 'Training error')\n",
    "plt.plot(train_sizes, validation_scores_mean, label = 'Validation error')\n",
    "plt.ylabel('RMSE', fontsize = 14)\n",
    "plt.xlabel('Training set size', fontsize = 14)\n",
    "plt.title('Learning curves for white wine linear regression', fontsize = 16)\n",
    "plt.legend()\n"
   ]
  },
  {
   "cell_type": "code",
   "execution_count": 12,
   "metadata": {},
   "outputs": [],
   "source": [
    "#-----------------------------------------------------------------------------\n",
    "# b. Report what the best training data size you would like to use for this work is and explain why you choose it.\n",
    "\n",
    "\"\"\"\n",
    "The best training size is the following. \n",
    "This training size decrease bias and increase variance.\n",
    "\"\"\"\n",
    "\n",
    "best_train_sizes = [1, 289, 579, 869, 1159, 1449, 1738, 2028, 2318, 2608, 2898]\n"
   ]
  },
  {
   "cell_type": "code",
   "execution_count": 13,
   "metadata": {},
   "outputs": [
    {
     "data": {
      "text/plain": [
       "'\\nWhen running the code above on the best training size, we can see from the plot that it gives a larger\\ngap between the errors. A narrow gap indicates low variance, and a wider gap\\nindicates greater the variance. It also gives a low training error and \\na higher validation error, which is the norm.\\n'"
      ]
     },
     "execution_count": 13,
     "metadata": {},
     "output_type": "execute_result"
    }
   ],
   "source": [
    "#-----------------------------------------------------------------------------\n",
    "# c. Report the performance on the test set obtained using the model trained from the best size.\n",
    "\n",
    "\"\"\"\n",
    "When running the code above on the best training size, we can see from the plot that it gives a small\n",
    "gap between the errors. A narrow gap indicates low variance, it also gives a high training error,\n",
    "which is better in order to generalise the regression model on the remaining data\n",
    "that's not yet been trained.\n",
    "\"\"\"\n"
   ]
  },
  {
   "cell_type": "code",
   "execution_count": 14,
   "metadata": {},
   "outputs": [
    {
     "data": {
      "text/plain": [
       "'\\nIn Task 1, we found that the dataset contained 4898 data points.\\nSetting the ‘quality’ of wine as a class we found the number of points in each class,\\nquality of value 6 was the most common.Then we produced a scatter plot of “Fixed Acidity” against “Density”.\\nFor Task 2, a principle component analysis was performed on the entire white wine dataset, and projections were\\nplotted according to class labels. Then the dataset was divided into validation, training, and test sets in Task 3,\\nand a learning curve was plotted in Task 4. The data seemed to produce a curve with a small gap between the training\\nand validation errors, meaning the experimental design has low variance. This could underfit the training data.\\nSome ways to solve this would be training the current set on more features to produce a more complex design.\\n\\n'"
      ]
     },
     "execution_count": 14,
     "metadata": {},
     "output_type": "execute_result"
    }
   ],
   "source": [
    "#------------------------------- T A S K 5 ------------------------------------\n",
    "\n",
    "\"\"\"\n",
    "In Task 1, we found that the dataset contained 4898 data points.\n",
    "Setting the ‘quality’ of wine as a class we found the number of points in each class,\n",
    "quality of value 6 was the most common.Then we produced a scatter plot of “Fixed Acidity” against “Density”.\n",
    "For Task 2, a principle component analysis was performed on the entire white wine dataset, and projections were\n",
    "plotted according to class labels. Then the dataset was divided into validation, training, and test sets in Task 3,\n",
    "and a learning curve was plotted in Task 4. The data seemed to produce a curve with a small gap between the training\n",
    "and validation errors, meaning the experimental design has low variance. This could underfit the training data.\n",
    "Some ways to solve this would be training the current set on more features to produce a more complex design.\n",
    "\n",
    "\"\"\""
   ]
  },
  {
   "cell_type": "code",
   "execution_count": null,
   "metadata": {},
   "outputs": [],
   "source": []
  }
 ],
 "metadata": {
  "kernelspec": {
   "display_name": "Python 3",
   "language": "python",
   "name": "python3"
  },
  "language_info": {
   "codemirror_mode": {
    "name": "ipython",
    "version": 3
   },
   "file_extension": ".py",
   "mimetype": "text/x-python",
   "name": "python",
   "nbconvert_exporter": "python",
   "pygments_lexer": "ipython3",
   "version": "3.8.5"
  }
 },
 "nbformat": 4,
 "nbformat_minor": 4
}
